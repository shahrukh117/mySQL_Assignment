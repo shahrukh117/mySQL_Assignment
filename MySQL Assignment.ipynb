{
 "cells": [
  {
   "cell_type": "markdown",
   "id": "f621d941-93f7-46b0-a9af-117c9f97488f",
   "metadata": {},
   "source": [
    "### Q1. What is a database? Differentiate between SQL and NoSQL databases."
   ]
  },
  {
   "cell_type": "markdown",
   "id": "72757210-55df-43bf-988a-e7f5bd559167",
   "metadata": {},
   "source": [
    "### Database:-\n",
    "A database is a structured collection of data that is organized in a way that allows efficient storage, retrieval, and manipulation of information. Databases are used to store and manage large amounts of data, making them a fundamental component of many software applications and systems."
   ]
  },
  {
   "cell_type": "markdown",
   "id": "51a66393-13b0-48d3-a4a0-0f77dd6c10d7",
   "metadata": {},
   "source": [
    "### Difference between SQL and NoSQL databases."
   ]
  },
  {
   "cell_type": "markdown",
   "id": "c4de2d93-8929-41b3-b58f-9956ec839e77",
   "metadata": {},
   "source": [
    "SQL databases are relational, and NoSQL databases are non-relational.\n",
    "\n",
    "SQL databases use structured query language (SQL) and have a predefined schema. NoSQL databases have dynamic schemas for unstructured data.\n",
    "\n",
    "SQL databases are vertically scalable, while NoSQL databases are horizontally scalable.\n",
    "\n",
    "SQL databases are table-based, while NoSQL databases are document, key-value, graph, or wide-column stores.\n",
    "\n",
    "SQL databases are better for multi-row transactions, while NoSQL is better for unstructured data like documents or JSON.\n",
    "\n",
    "Table of Contents"
   ]
  },
  {
   "cell_type": "markdown",
   "id": "33c47d59-1af6-45bf-afde-4074ba89bcb6",
   "metadata": {},
   "source": [
    "### Q2. What is DDL? Explain why CREATE, DROP, ALTER, and TRUNCATE are used with an example."
   ]
  },
  {
   "cell_type": "markdown",
   "id": "f0ee756f-2a18-4838-9332-20fc252ea9d0",
   "metadata": {},
   "source": [
    "A data definition language (DDL) is a computer language used to create and modify the structure of database objects in a database. These database objects include views, schemas, tables, indexes, etc"
   ]
  },
  {
   "cell_type": "markdown",
   "id": "61baed54-1313-4ef1-a924-8a68f40a077b",
   "metadata": {},
   "source": [
    "### CREATE: \n",
    "This command is used to create a new table in SQL. The user has to give information like table name, column names, and their datatypes.\n",
    "### Syntax –\n",
    "\n",
    "CREATE TABLE table_name\n",
    "(\n",
    "column_1 datatype,\n",
    "column_2 datatype,\n",
    "column_3 datatype,\n",
    "....);\n",
    "\n",
    "### Example –\n",
    "We need to create a table for storing Student information of a particular College. Create syntax would be as below.\n",
    "\n",
    "\n",
    "CREATE TABLE Student_info\n",
    "(\n",
    "College_Id number(2),\n",
    "College_name varchar(30),\n",
    "Branch varchar(10)\n",
    ");"
   ]
  },
  {
   "cell_type": "markdown",
   "id": "3f3b9ce6-4cf3-43dd-9bd2-c246ec944a03",
   "metadata": {},
   "source": [
    "### DROP :\n",
    "This command is used to remove an existing table along with its structure from the Database.\n",
    "\n",
    "### Syntax –\n",
    "Syntax to drop an existing table.\n",
    "\n",
    "DROP TABLE table_name;\n",
    "### Example –\n",
    "If the College Authority wants to change their Database by deleting the Student_info Table. \n",
    "\n",
    "DROP TABLE Student_info;"
   ]
  },
  {
   "cell_type": "markdown",
   "id": "7d4ad27d-7fe2-4817-91a2-060bdb9aeb7a",
   "metadata": {},
   "source": [
    "### ALTER :\n",
    "This command is used to add, delete or change columns in the existing table. The user needs to know the existing table name and can do add, delete or modify tasks easily.\n",
    "### Syntax –\n",
    "Syntax to add a column to an existing table.\n",
    "\n",
    "\n",
    "ALTER TABLE table_name\n",
    "ADD column_name datatype;\n",
    "### Example –\n",
    "In our Student_info table, we want to add a new column for CGPA. The syntax would be as below as follows.\n",
    "\n",
    "\n",
    "ALTER TABLE Student_info\n",
    "ADD CGPA number;"
   ]
  },
  {
   "cell_type": "markdown",
   "id": "def76e8a-f280-441a-9933-a402edfb2193",
   "metadata": {},
   "source": [
    "### TRUNCATE :\n",
    "This command is used to remove all rows from the table, but the structure of the table still exists.\n",
    "### Syntax –\n",
    "Syntax to remove an existing table.\n",
    "\n",
    "TRUNCATE TABLE table_name;\n",
    "### Example –\n",
    "The College Authority wants to remove the details of all students for new batches but wants to keep the table structure. The command they can use is as follows.\n",
    "\n",
    "TRUNCATE TABLE Student_info;"
   ]
  },
  {
   "cell_type": "markdown",
   "id": "926407f6-5ec8-486f-b495-755349870e8b",
   "metadata": {},
   "source": [
    "### Q3. What is DML? Explain INSERT, UPDATE, and DELETE with an example."
   ]
  },
  {
   "cell_type": "markdown",
   "id": "2e09671f-4e6a-4694-a0b8-5021a4728d2f",
   "metadata": {},
   "source": [
    "## DML: Data Manipulation Language\n",
    "DML commands are those commands that help manage and modify the database. These commands are not auto-committed, meaning they can’t permanently save the data in a database.\n",
    "\n",
    "Here are the DML commands- INSERT, UPDATE, DELETE"
   ]
  },
  {
   "cell_type": "markdown",
   "id": "be444702-3502-49f9-a532-bf68cd11cc7d",
   "metadata": {},
   "source": [
    "### INSERT Command –\n",
    "This command is used to enter the information or values into a row. We can connect one or more records to a single table within a repository using this instruction. This is often used to connect an unused tag to the documents.\n",
    "### Syntax :\n",
    "\n",
    "INSERT INTO <table_name> ('column_name1' <datatype>, 'column_name2' <datatype>)\n",
    "\n",
    "VALUES ('value1', 'value2');\n"
   ]
  },
  {
   "cell_type": "markdown",
   "id": "5dd5d091-80c7-4adb-9306-71db9c16b47e",
   "metadata": {},
   "source": [
    "### ### Example :\n",
    "\n",
    "INSERT INTO students ('stu_id' int, 'stu_name' varchar(20), 'city' varchar(20))\n",
    "\n",
    "VALUES ('1', 'Nirmit', 'Gorakhpur'); "
   ]
  },
  {
   "cell_type": "markdown",
   "id": "bed5bf72-418f-421a-b78c-98058251691b",
   "metadata": {},
   "source": [
    "### UPDATE Command –\n",
    "This command is used to alter existing table records. Within a table, it modifies data from one or more records. This command is used to alter the data which is already present in a table\n",
    "\n",
    "### Syntax :\n",
    "\n",
    "UPDATE <table_name>\n",
    "\n",
    "SET <column_name = value>\n",
    "\n",
    "WHERE condition; \n",
    "\n",
    "### Example :\n",
    "\n",
    "UPDATE students\n",
    "\n",
    "SET due_fees = 20000\n",
    "\n",
    "WHERE stu_name = 'Mini"
   ]
  },
  {
   "cell_type": "markdown",
   "id": "7a70380b-d00e-4759-96c5-ddfd16062d16",
   "metadata": {},
   "source": [
    "### DELETE Command –\n",
    "It deletes all archives from a table. This command is used to erase some or all of the previous table’s records. If we do not specify the ‘WHERE’ condition then all the rows would be erased or deleted.\n",
    "\n",
    "### Syntax :\n",
    "\n",
    "DELETE FROM <table_name>\n",
    "\n",
    "WHERE <condition>; "
   ]
  },
  {
   "cell_type": "markdown",
   "id": "1e319290-cd5d-414a-9140-4675d0c7ceaf",
   "metadata": {},
   "source": [
    "### Example :\n",
    "\n",
    "DELETE FROM students\n",
    "\n",
    "WHERE stu_id = '001'; "
   ]
  },
  {
   "cell_type": "markdown",
   "id": "b24c0fd3-c4e2-4507-b749-8351d75506dd",
   "metadata": {},
   "source": [
    "### Q4. What is DQL? Explain SELECT with an example."
   ]
  },
  {
   "cell_type": "markdown",
   "id": "c1c5a9bc-9e8f-4da0-b224-2dd72bbec630",
   "metadata": {},
   "source": [
    "### Data Query Language \n",
    "DQL is one of the finest SQL commands that is used to fetch the data from the database. The goal of DQL commands is to obtain the schema relationship based on the request that is passed to it. While often referred to as part of DML, the SQL SELECT statement is strictly an example of DQL."
   ]
  },
  {
   "cell_type": "markdown",
   "id": "08ce193e-0bc5-4cde-91ad-a6fdd5ef0e40",
   "metadata": {},
   "source": [
    "### Syntax:\n",
    "\n",
    "SELECT expressions    \n",
    "FROM TABLES    \n",
    "WHERE conditions; \n",
    "###  Example:\n",
    "\n",
    "SELECT FirstName  \n",
    "FROM Student  \n",
    "WHERE RollNo > 15; "
   ]
  },
  {
   "cell_type": "markdown",
   "id": "9ea07987-d6b0-4ee7-a0e0-be818bec2925",
   "metadata": {},
   "source": [
    "### Q5. Explain Primary Key and Foreign Key"
   ]
  },
  {
   "cell_type": "markdown",
   "id": "c41037c9-f66f-471d-ad2e-54a8aeb1dfb2",
   "metadata": {},
   "source": [
    "### Primary key:\n",
    "The primary key is a unique or non-null key that uniquely identifies every record in a table or relation. Each database needs a unique identifier for every row of a table, and the primary key plays a vital role in identifying rows in the table uniquely. The primary key column can't store duplicate values. It is also called a minimal super key; therefore, we cannot specify more than one primary key in any relationship."
   ]
  },
  {
   "cell_type": "markdown",
   "id": "faae2717-5505-47df-8c9d-aa62b9f9c627",
   "metadata": {},
   "source": [
    "### For example\n",
    "we have a table named customer with attributes such as ID, Name, and City. Only the ID column can never contain duplicate and NULL values because each customer has a unique identification number. This feature helps to identify each record in the database uniquely. Hence, we can make the ID attribute a primary key"
   ]
  },
  {
   "cell_type": "markdown",
   "id": "946757ea-300b-40a0-8bd2-48b749a829bd",
   "metadata": {},
   "source": [
    "### Foreign key:\n",
    "A foreign key is a column or group of columns in a relational database table that provides a link between data in two tables. It is a column (or columns) that references a column (most often the primary key) of another table. \n",
    "### For example:\n",
    "we have a table named contact with attributes such as ID, Customer_Id, Customer_Info, and Type. Here we can make the Customer_Id column a foreign key."
   ]
  },
  {
   "cell_type": "markdown",
   "id": "2d42d5db-8f41-400a-baff-6801b10734df",
   "metadata": {},
   "source": [
    "### Q6. Write a python code to connect MySQL to python. Explain the cursor() and execute() method."
   ]
  },
  {
   "cell_type": "markdown",
   "id": "c7d40b94-1e59-450d-b59c-038a256a4f6a",
   "metadata": {},
   "source": [
    "To connect MySQL to Python, you'll need to use a MySQL driver. One popular choice is the \"mysql-connector-python\" library, which provides a Python interface for interacting with MySQL databases. Before running the code, make sure you have the \"mysql-connector-python\" library installed. You can install it using pip:"
   ]
  },
  {
   "cell_type": "code",
   "execution_count": 1,
   "id": "61a43efb-d140-40ae-b47e-eef447ca3587",
   "metadata": {},
   "outputs": [
    {
     "name": "stdout",
     "output_type": "stream",
     "text": [
      "Collecting mysql-connector-python\n",
      "  Downloading mysql_connector_python-8.1.0-cp310-cp310-manylinux_2_17_x86_64.whl (27.5 MB)\n",
      "\u001b[2K     \u001b[90m━━━━━━━━━━━━━━━━━━━━━━━━━━━━━━━━━━━━━━━━\u001b[0m \u001b[32m27.5/27.5 MB\u001b[0m \u001b[31m48.5 MB/s\u001b[0m eta \u001b[36m0:00:00\u001b[0m00:01\u001b[0m00:01\u001b[0m\n",
      "\u001b[?25hRequirement already satisfied: protobuf<=4.21.12,>=4.21.1 in /opt/conda/lib/python3.10/site-packages (from mysql-connector-python) (4.21.11)\n",
      "Installing collected packages: mysql-connector-python\n",
      "Successfully installed mysql-connector-python-8.1.0\n",
      "Note: you may need to restart the kernel to use updated packages.\n"
     ]
    }
   ],
   "source": [
    "pip install mysql-connector-python\n"
   ]
  },
  {
   "cell_type": "code",
   "execution_count": 7,
   "id": "ceba59b1-18a6-4a10-aca0-1f94901091b0",
   "metadata": {},
   "outputs": [
    {
     "data": {
      "text/plain": [
       "'\\nimport mysql.connector\\n\\nmydb = mysql.connector.connect(\\n  host=\"localhost\",\\n  user=\"abc\",\\n  password=\"password\"\\n)\\nprint(mydb)\\nmycursor = mydb.cursor()\\nmycursor.execute(\"SHOW DATABASES\")\\nfor x in mycursor:\\n    print(x)\\n    '"
      ]
     },
     "execution_count": 7,
     "metadata": {},
     "output_type": "execute_result"
    }
   ],
   "source": [
    "'''\n",
    "import mysql.connector\n",
    "\n",
    "mydb = mysql.connector.connect(\n",
    "  host=\"localhost\",\n",
    "  user=\"abc\",\n",
    "  password=\"password\"\n",
    ")\n",
    "print(mydb)\n",
    "mycursor = mydb.cursor()\n",
    "mycursor.execute(\"SHOW DATABASES\")\n",
    "for x in mycursor:\n",
    "    print(x)\n",
    "    '''"
   ]
  },
  {
   "cell_type": "markdown",
   "id": "873ab9ff-ce5e-45e4-add4-4c0aafbc53fb",
   "metadata": {},
   "source": [
    "### cursor() Method:\n",
    "\n",
    "The cursor() method is called on the database connection object to create a cursor object.\n",
    "A cursor is a control structure that allows you to traverse and manipulate records in a database result set.\n",
    "Cursors provide methods to execute SQL queries, fetch data, and manage transactions.\n",
    "The cursor is used to execute SQL statements and retrieve the results.\n",
    "### execute() Method:\n",
    "\n",
    "The execute() method is called on the cursor object to execute an SQL query.\n",
    "You pass the SQL query as a parameter to the execute() method.\n",
    "After executing the query, the cursor is ready to fetch the results.\n",
    "You can execute various SQL commands, including SELECT, INSERT, UPDATE, DELETE, etc., using the execute() method."
   ]
  },
  {
   "cell_type": "markdown",
   "id": "4e1124f9-490e-4768-90ee-237c423eda99",
   "metadata": {},
   "source": [
    "### Q7. Give the order of execution of SQL clauses in an SQL query."
   ]
  },
  {
   "cell_type": "markdown",
   "id": "0ba18a59-b4c5-4e00-a49d-1d59028c2747",
   "metadata": {},
   "source": [
    "In an SQL query, the clauses are executed in a specific order to ensure that the query is executed correctly and produces the expected results. The typical order of execution for the clauses in a basic SQL SELECT statement is as follows:\n",
    "\n",
    "FROM: The FROM clause specifies the source table(s) from which the data is retrieved. It identifies the table(s) that will be queried to obtain the desired information.\n",
    "\n",
    "WHERE: The WHERE clause is used to filter the rows from the specified table(s) based on a given condition. It restricts the rows that meet the specified criteria.\n",
    "\n",
    "GROUP BY: The GROUP BY clause is used to group the resulting rows from the previous steps into summary rows based on the values of one or more columns. This is often used in conjunction with aggregate functions like SUM, COUNT, AVG, etc.\n",
    "\n",
    "HAVING: The HAVING clause filters the grouped rows produced by the GROUP BY clause based on a condition. It's similar to the WHERE clause, but it operates on the grouped results.\n",
    "\n",
    "SELECT: The SELECT clause defines which columns to include in the final result set. It specifies the attributes or expressions to be retrieved for each row.\n",
    "\n",
    "ORDER BY: The ORDER BY clause is used to sort the resulting rows (after any grouping and filtering) based on one or more columns. It determines the order in which the rows are presented in the final result set.\n",
    "\n",
    "LIMIT / OFFSET: The LIMIT and OFFSET clauses (or their equivalent in different database systems) are used to limit the number of rows returned in the result set and, in some cases, to skip a certain number of rows"
   ]
  },
  {
   "cell_type": "markdown",
   "id": "992b1b28-56d1-4199-9a59-67b7b655c5ca",
   "metadata": {},
   "source": [
    "# The end"
   ]
  }
 ],
 "metadata": {
  "kernelspec": {
   "display_name": "Python 3 (ipykernel)",
   "language": "python",
   "name": "python3"
  },
  "language_info": {
   "codemirror_mode": {
    "name": "ipython",
    "version": 3
   },
   "file_extension": ".py",
   "mimetype": "text/x-python",
   "name": "python",
   "nbconvert_exporter": "python",
   "pygments_lexer": "ipython3",
   "version": "3.10.8"
  }
 },
 "nbformat": 4,
 "nbformat_minor": 5
}
